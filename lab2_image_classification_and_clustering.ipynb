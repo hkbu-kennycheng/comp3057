{
  "nbformat": 4,
  "nbformat_minor": 0,
  "metadata": {
    "colab": {
      "name": "lab2 image classification and clustering.ipynb",
      "provenance": [],
      "collapsed_sections": [
        "lLh5WTgd5HRD"
      ],
      "authorship_tag": "ABX9TyPa9YKyZ287tTWQKzF01SFp",
      "include_colab_link": true
    },
    "kernelspec": {
      "name": "python3",
      "display_name": "Python 3"
    },
    "language_info": {
      "name": "python"
    }
  },
  "cells": [
    {
      "cell_type": "markdown",
      "metadata": {
        "id": "view-in-github",
        "colab_type": "text"
      },
      "source": [
        "<a href=\"https://colab.research.google.com/github/hkbu-kennycheng/comp3057/blob/main/lab2_image_classification_and_clustering.ipynb\" target=\"_parent\"><img src=\"https://colab.research.google.com/assets/colab-badge.svg\" alt=\"Open In Colab\"/></a>"
      ]
    },
    {
      "cell_type": "markdown",
      "metadata": {
        "id": "cYh987Rg4woA"
      },
      "source": [
        "# Image classification\n",
        "\n",
        "We are going to train an image classification models with `PyTorch`. Let's import `torch` first."
      ]
    },
    {
      "cell_type": "code",
      "metadata": {
        "id": "ECBGWg53GMZx"
      },
      "source": [
        "import torch"
      ],
      "execution_count": null,
      "outputs": []
    },
    {
      "cell_type": "markdown",
      "metadata": {
        "id": "LgR-UXWU5BhQ"
      },
      "source": [
        "## Dataset: [Fashion MNIST](https://github.com/zalandoresearch/fashion-mnist)\n",
        "\n",
        "With `Fashion MNIST` dataset, we could train a model to classify cloth image.\n",
        "\n",
        "![](https://url2img-web.herokuapp.com/aHR0cHM6Ly9naXRodWIuY29tL3phbGFuZG9yZXNlYXJjaC9mYXNoaW9uLW1uaXN0I2Zhc2hpb24tbW5pc3Q=?w=1280&h=800)"
      ]
    },
    {
      "cell_type": "markdown",
      "metadata": {
        "id": "lLh5WTgd5HRD"
      },
      "source": [
        "### Why Fashion MNIST?\n",
        "\n",
        "Orignal [MNIST dataset](http://yann.lecun.com/exdb/mnist/) is a dataset of  handwritten digits. Because of its simplicty, the machine learning community would use MNIST dataset to validate their algorithms at the very begining during development. But it's too easy for the algorithms nowadays and could not represent modern computer vision tasks.\n",
        "\n",
        "`Fashion MNIST` serve the same purpose as orignal MNIST dataset and could be used as a drop-in replacement."
      ]
    },
    {
      "cell_type": "markdown",
      "metadata": {
        "id": "OvCDeucK5KUM"
      },
      "source": [
        "### Loading Fashion MNIST with torchvision\n",
        "\n",
        "`Fashion MNIST` could be downloaded with `torchvision` module directly by `torchvision.datasets`. We also need `torchvision.transforms` for scaling up images to `32x32` and transform data to [`Tensor`](https://pytorch.org/docs/stable/tensors.html). Tensor is a multi-dimensional container for data of different types.\n"
      ]
    },
    {
      "cell_type": "code",
      "metadata": {
        "id": "3oPgsAOR5PfP"
      },
      "source": [
        "from torchvision import datasets\n",
        "from torchvision import transforms\n",
        "\n",
        "train_set = datasets.FashionMNIST(\"./data\", download=True,\n",
        "                                  transform=transforms.Compose([transforms.ToTensor()]))\n",
        "test_set = datasets.FashionMNIST(\"./data\", download=True, train=False,\n",
        "                                 transform=transforms.Compose([transforms.ToTensor()]))"
      ],
      "execution_count": null,
      "outputs": []
    },
    {
      "cell_type": "markdown",
      "metadata": {
        "id": "Ml0i9wWrGwXF"
      },
      "source": [
        "### Split train, valid and test data\n",
        "\n",
        "By wrapping data with `DataLoader`, it helps us to shuffle and load data in each iteration during the train process."
      ]
    },
    {
      "cell_type": "code",
      "metadata": {
        "id": "FnPBlEAzGqny"
      },
      "source": [
        "from torch.utils.data import DataLoader\n",
        "\n",
        "train_loader = DataLoader(train_set, shuffle=True)\n",
        "test_loader = DataLoader(test_set, shuffle=True)"
      ],
      "execution_count": null,
      "outputs": []
    },
    {
      "cell_type": "markdown",
      "metadata": {
        "id": "wDahS3zOmc0c"
      },
      "source": [
        "The labels are represented using `0 - 9`."
      ]
    },
    {
      "cell_type": "code",
      "metadata": {
        "id": "LT_Imzf7LBkp"
      },
      "source": [
        "labels = {\n",
        "    0: \"T-Shirt\",\n",
        "    1: \"Trouser\",\n",
        "    2: \"Pullover\",\n",
        "    3: \"Dress\",\n",
        "    4: \"Coat\",\n",
        "    5: \"Sandal\",\n",
        "    6: \"Shirt\",\n",
        "    7: \"Sneaker\",\n",
        "    8: \"Bag\",\n",
        "    9: \"Ankle Boot\",\n",
        "}"
      ],
      "execution_count": null,
      "outputs": []
    },
    {
      "cell_type": "markdown",
      "metadata": {
        "id": "6YsAFZMs5Okn"
      },
      "source": [
        "## Building a sequential model\n",
        "\n",
        "A sequential model is a stack of layers, where each layer has only one input tensor and output tensor.\n",
        "\n",
        "\n",
        "\n"
      ]
    },
    {
      "cell_type": "markdown",
      "metadata": {
        "id": "2Xbyl4Jn8dhQ"
      },
      "source": [
        "### Model architecture\n",
        "\n",
        "Here is an overview of our first model that we are going to build in this lab. It takes a single input (a single channel image) and provide a output (probability of labels). \n",
        "\n",
        "```\n",
        " +---------+    +--------+    +------+    +--------+\n",
        " | Flatten | -> | Linear | -> | ReLu | -> | Linear |\n",
        " +---------+    +--------+    +------+    +--------+\n",
        "```\n",
        "\n",
        "Flatten layer reformats the input data from 2d array `(28, 28)` to 1d array `(784)`, which has no parameters to learn.\n",
        "\n",
        "`Linear -> ReLu -> Linear` is a fully-connected `ReLU` network with one hidden layer, which consits of `128` nodes (or neurons). It accepts `784` inputs and provide `10` output for corresponding label probabilities.\n",
        "\n"
      ]
    },
    {
      "cell_type": "code",
      "metadata": {
        "id": "FfO0q8OC1lhM"
      },
      "source": [
        "from torch import nn\n",
        "\n",
        "model = nn.Sequential(\n",
        "  nn.Flatten(),\n",
        "  nn.Linear(784, 128),\n",
        "  nn.ReLU(),\n",
        "  nn.Linear(128, 10),\n",
        ")"
      ],
      "execution_count": null,
      "outputs": []
    },
    {
      "cell_type": "markdown",
      "metadata": {
        "id": "6ULkBUVf7u7p"
      },
      "source": [
        "## Train the mdoel"
      ]
    },
    {
      "cell_type": "markdown",
      "metadata": {
        "id": "DaSHX6ZiMl_I"
      },
      "source": [
        "\n",
        "### Define loss function\n",
        "\n",
        "Loss function measures how accurate the model is during training. You want to minimize this function to \"steer\" the model in the right direction.\n",
        "\n",
        "We would use [`nn.CrossEntropyLoss`](https://pytorch.org/docs/stable/generated/torch.nn.CrossEntropyLoss.html) in our example model."
      ]
    },
    {
      "cell_type": "code",
      "metadata": {
        "id": "1F6ZQ5lgMyfv"
      },
      "source": [
        "loss_function = nn.CrossEntropyLoss()"
      ],
      "execution_count": null,
      "outputs": []
    },
    {
      "cell_type": "markdown",
      "metadata": {
        "id": "UXl0pG7CM7Ab"
      },
      "source": [
        "### Specifying Optimizer\n",
        "\n",
        "This is how the model is updated based on the data it sees and its loss function. SDG is a gradient descent (with `momentum` set to `0.9`) optimizer. For learning rate, we set to `0.001`."
      ]
    },
    {
      "cell_type": "code",
      "metadata": {
        "id": "h8--garyM2jY"
      },
      "source": [
        "from torch import optim\n",
        "\n",
        "optimizer = optim.SGD(model.parameters(), lr=1e-3, momentum=0.9)"
      ],
      "execution_count": null,
      "outputs": []
    },
    {
      "cell_type": "markdown",
      "metadata": {
        "id": "nWGFLrsmncgR"
      },
      "source": [
        "### Define epoch number\n",
        "\n",
        "We first need to define how many `epoch` in the training process. An epoch means one complete pass of the training dataset through the algorithm. Each epoch takes a few minutes running on Colab CPU runtime in our model."
      ]
    },
    {
      "cell_type": "code",
      "metadata": {
        "id": "_RNpwlufnfsd"
      },
      "source": [
        "NUM_EPOCHS = 1"
      ],
      "execution_count": null,
      "outputs": []
    },
    {
      "cell_type": "markdown",
      "metadata": {
        "id": "syz-9zf5NRyI"
      },
      "source": [
        "### Putting together in the loop\n",
        "\n"
      ]
    },
    {
      "cell_type": "code",
      "metadata": {
        "id": "sxUYwyHkNRbH",
        "colab": {
          "base_uri": "https://localhost:8080/"
        },
        "outputId": "465f7f66-5fb2-40f6-e334-b62d2e789924"
      },
      "source": [
        "from tqdm import tqdm # for showing as progress bar\n",
        "\n",
        "model.train() # put model in training mode\n",
        "\n",
        "for epoch in range(NUM_EPOCHS):\n",
        "\n",
        "  loop = tqdm(train_loader, position=0, leave=True)\n",
        "\n",
        "  for (input, label) in loop:\n",
        "    optimizer.zero_grad() # zero the parameter gradients\n",
        "\n",
        "    # forward + backward + optimize\n",
        "    output = model.forward(input)\n",
        "    loss = loss_function(output, label)\n",
        "    loss.backward()\n",
        "    optimizer.step()\n",
        "    \n",
        "    loop.set_description(f\"Epoch [{epoch}/{NUM_EPOCHS}]\")"
      ],
      "execution_count": null,
      "outputs": [
        {
          "output_type": "stream",
          "text": [
            "Epoch [0/1]: 100%|██████████| 60000/60000 [06:57<00:00, 143.78it/s]\n"
          ],
          "name": "stderr"
        }
      ]
    },
    {
      "cell_type": "markdown",
      "metadata": {
        "id": "m0bhbac0w-Ml"
      },
      "source": [
        "## Saving and loading model\n",
        "\n",
        "It's easy to store the trained model and load it back in `PyTorch`."
      ]
    },
    {
      "cell_type": "markdown",
      "metadata": {
        "id": "gGoWGFAN8GYg"
      },
      "source": [
        "### Save\n",
        "\n",
        "You could output trained model as a single file with `torch.save`, which contains all `parameters` of the model."
      ]
    },
    {
      "cell_type": "code",
      "metadata": {
        "id": "F5SGXSZ7w95d"
      },
      "source": [
        "PATH = './FashionMNIST_net.pth'\n",
        "torch.save(model.state_dict(), PATH)"
      ],
      "execution_count": null,
      "outputs": []
    },
    {
      "cell_type": "markdown",
      "metadata": {
        "id": "zNHicCVG8JuP"
      },
      "source": [
        "### Load\n",
        "\n",
        "To load it back, we need to construct the corresponding model, and invoke `model.load_state_dict` by passing in the model file loaded with `torch.load`."
      ]
    },
    {
      "cell_type": "code",
      "metadata": {
        "id": "hK1iysSf8MgS",
        "colab": {
          "base_uri": "https://localhost:8080/"
        },
        "outputId": "a69b7c26-1870-498f-a79c-e8a581cdac0a"
      },
      "source": [
        "model.load_state_dict(torch.load(PATH))"
      ],
      "execution_count": null,
      "outputs": [
        {
          "output_type": "execute_result",
          "data": {
            "text/plain": [
              "<All keys matched successfully>"
            ]
          },
          "metadata": {
            "tags": []
          },
          "execution_count": 28
        }
      ]
    },
    {
      "cell_type": "markdown",
      "metadata": {
        "id": "aQz1FcjaQqlV"
      },
      "source": [
        "## Make prediction using the trained model"
      ]
    },
    {
      "cell_type": "markdown",
      "metadata": {
        "id": "ZbvY5NZ-QtTm"
      },
      "source": [
        "### Convert logits to probabilities\n",
        "\n",
        "With the model trained, you can use it to make predictions about some images. The model's linear outputs, logits. Attach a softmax layer to convert the logits to probabilities, which are easier to interpret. "
      ]
    },
    {
      "cell_type": "code",
      "metadata": {
        "id": "B-nlGQLKQwGd"
      },
      "source": [
        "model.add_module('output', nn.Softmax())"
      ],
      "execution_count": null,
      "outputs": []
    },
    {
      "cell_type": "markdown",
      "metadata": {
        "id": "YCvhCxuXRHKQ"
      },
      "source": [
        "### Interpret prediction result\n",
        "\n",
        "In following example, we take the first data from test set and pass it the `model.forward` for prediction. It would return probabilities of the corresponding label by index."
      ]
    },
    {
      "cell_type": "code",
      "metadata": {
        "colab": {
          "base_uri": "https://localhost:8080/",
          "height": 424
        },
        "id": "52f_PkoTRGxo",
        "outputId": "eb30e669-6c5e-4990-9eb1-011f690ff3be"
      },
      "source": [
        "model.eval() # put model in evaluation mode\n",
        "\n",
        "img, label = next(iter(test_loader))\n",
        "output = model.forward(img)\n",
        "print(output[0]) # probabilities for each label\n",
        "\n",
        "print(f'Ground truth label: {labels[int(label[0])]}')\n",
        "print(f'Probability for the ground truth: {output[0][label[0]]}')\n",
        "\n",
        "import matplotlib.pyplot as plt\n",
        "plt.imshow(transforms.ToPILImage()(img[0]))"
      ],
      "execution_count": null,
      "outputs": [
        {
          "output_type": "stream",
          "text": [
            "/usr/local/lib/python3.7/dist-packages/torch/nn/modules/container.py:139: UserWarning: Implicit dimension choice for softmax has been deprecated. Change the call to include dim=X as an argument.\n",
            "  input = module(input)\n"
          ],
          "name": "stderr"
        },
        {
          "output_type": "stream",
          "text": [
            "tensor([3.9156e-02, 5.9873e-04, 2.8378e-01, 6.8127e-02, 1.1522e-01, 1.3620e-04,\n",
            "        4.9051e-01, 4.5853e-04, 1.8333e-03, 1.8233e-04],\n",
            "       grad_fn=<SelectBackward>)\n",
            "Ground truth label: Shirt\n",
            "Probability for the ground truth: 0.49050724506378174\n"
          ],
          "name": "stdout"
        },
        {
          "output_type": "execute_result",
          "data": {
            "text/plain": [
              "<matplotlib.image.AxesImage at 0x7fd26ba8e8d0>"
            ]
          },
          "metadata": {
            "tags": []
          },
          "execution_count": 30
        },
        {
          "output_type": "display_data",
          "data": {
            "image/png": "[encoded data removed]",
            "text/plain": [
              "<Figure size 432x288 with 1 Axes>"
            ]
          },
          "metadata": {
            "tags": [],
            "needs_background": "light"
          }
        }
      ]
    },
    {
      "cell_type": "markdown",
      "metadata": {
        "id": "S46qd_ghQLyE"
      },
      "source": [
        "## Test trained model\n",
        "\n",
        "To measure the trained model performance, we will need to make prediction using test set and calculate the accuracy."
      ]
    },
    {
      "cell_type": "markdown",
      "metadata": {
        "id": "l1ojqoVJP1mD"
      },
      "source": [
        "### Calculate average accuracy"
      ]
    },
    {
      "cell_type": "code",
      "metadata": {
        "colab": {
          "base_uri": "https://localhost:8080/"
        },
        "id": "ZKjstkD8GOy_",
        "outputId": "be35fec9-128a-4a81-81a3-13766601e7ec"
      },
      "source": [
        "correct = 0\n",
        "total = 0\n",
        "\n",
        "loop = tqdm(test_loader, position=0, leave=True)\n",
        "model.eval() # put model in evaluation mode\n",
        "for (input, label) in loop:\n",
        "  output = model.forward(input)\n",
        "  _, predicted = torch.max(output.data, 1)\n",
        "  total += label.size(0)\n",
        "  correct += (predicted == label).sum().item()\n",
        "  loop.set_postfix(acc=(100*correct/total))"
      ],
      "execution_count": null,
      "outputs": [
        {
          "output_type": "stream",
          "text": [
            "  0%|          | 0/10000 [00:00<?, ?it/s]/usr/local/lib/python3.7/dist-packages/torch/nn/modules/container.py:139: UserWarning: Implicit dimension choice for softmax has been deprecated. Change the call to include dim=X as an argument.\n",
            "  input = module(input)\n",
            "100%|██████████| 10000/10000 [00:40<00:00, 249.62it/s, acc=84.8]\n"
          ],
          "name": "stderr"
        }
      ]
    },
    {
      "cell_type": "markdown",
      "metadata": {
        "id": "WnA8wz-Wo33B"
      },
      "source": [
        "# Clustering with K-means\n",
        "\n",
        "The second task for this lab is to clustering data with `kmeans`.\n",
        "\n",
        "\n",
        "Let's install `kmeans-pytorch` module with `pip` command. It's a k-means implementation with GPU support."
      ]
    },
    {
      "cell_type": "code",
      "metadata": {
        "id": "67VbEVf5pifQ",
        "colab": {
          "base_uri": "https://localhost:8080/"
        },
        "outputId": "2ac8f1ff-e135-459c-8add-6cefbc8fca0e"
      },
      "source": [
        "!pip install kmeans-pytorch"
      ],
      "execution_count": null,
      "outputs": [
        {
          "output_type": "stream",
          "text": [
            "Requirement already satisfied: kmeans-pytorch in /usr/local/lib/python3.7/dist-packages (0.3)\n"
          ],
          "name": "stdout"
        }
      ]
    },
    {
      "cell_type": "markdown",
      "metadata": {
        "id": "MJufscMDih_T"
      },
      "source": [
        "## Prepare data\n",
        "\n",
        "To use `kmeans_pytorch`, simply import `kmeans` from `kmeans_pytorch`. It only support clustering 2d data, thus we need to flatten our dataset to a 2d tensor. We only take the first 10000 data in the dataset.\n",
        "\n"
      ]
    },
    {
      "cell_type": "code",
      "metadata": {
        "id": "nIHPRYpBgDfc"
      },
      "source": [
        "import numpy as np\n",
        "from kmeans_pytorch import kmeans, kmeans_predict\n",
        "\n",
        "x = torch.flatten(train_loader.dataset.data[:10000], 1)"
      ],
      "execution_count": null,
      "outputs": []
    },
    {
      "cell_type": "markdown",
      "metadata": {
        "id": "t1LeC7h8nbL2"
      },
      "source": [
        "### Running kmeans\n",
        "\n",
        "To run kmeans, we need to pass in the data and number of cluster. The default configuration use euclidean distance to calculate distance between data points. You could change to cosine by passing in `distance='cosine'`."
      ]
    },
    {
      "cell_type": "code",
      "metadata": {
        "id": "70WToO4deQdf"
      },
      "source": [
        "cluster_ids_x, cluster_centers = kmeans(X=x, num_clusters=10)"
      ],
      "execution_count": null,
      "outputs": []
    },
    {
      "cell_type": "markdown",
      "metadata": {
        "id": "xnQZ2dPOnYt8"
      },
      "source": [
        "After running kmeans, we could get the cluster IDs and centroid of each cluster."
      ]
    },
    {
      "cell_type": "code",
      "metadata": {
        "colab": {
          "base_uri": "https://localhost:8080/"
        },
        "id": "cgJdNB7lnDsU",
        "outputId": "c07de98b-82d2-4228-dda1-7c17a44d1856"
      },
      "source": [
        "print(cluster_ids_x)\n",
        "print(cluster_centers)"
      ],
      "execution_count": null,
      "outputs": [
        {
          "output_type": "stream",
          "text": [
            "tensor([8, 1, 4,  ..., 0, 4, 9])\n",
            "tensor([[0.0000e+00, 1.0638e-03, 0.0000e+00,  ..., 0.0000e+00, 0.0000e+00,\n",
            "         0.0000e+00],\n",
            "        [1.1461e-02, 2.8653e-02, 1.7335e-01,  ..., 7.1633e-02, 2.2923e-02,\n",
            "         7.1633e-03],\n",
            "        [0.0000e+00, 0.0000e+00, 0.0000e+00,  ..., 2.3834e-02, 1.0363e-02,\n",
            "         0.0000e+00],\n",
            "        ...,\n",
            "        [0.0000e+00, 0.0000e+00, 0.0000e+00,  ..., 0.0000e+00, 0.0000e+00,\n",
            "         0.0000e+00],\n",
            "        [0.0000e+00, 0.0000e+00, 0.0000e+00,  ..., 1.1497e+01, 5.1812e+00,\n",
            "         5.1453e-01],\n",
            "        [1.0941e-03, 1.4223e-02, 5.0328e-02,  ..., 9.4475e+00, 1.2954e+00,\n",
            "         6.5646e-03]])\n"
          ],
          "name": "stdout"
        }
      ]
    },
    {
      "cell_type": "markdown",
      "metadata": {
        "id": "Pm84YJKgrlMO"
      },
      "source": [
        "### Interpret the results\n",
        "\n",
        "To visualize cluster_centers value, we could restore it as 28x28 array by `reshape`. Which same as undo the flatten operation that we have done.\n",
        "\n",
        "So that we could show the images using `matplotlib`. In the following result, we could able identify the centroid of Ankle boot and Trouser."
      ]
    },
    {
      "cell_type": "code",
      "metadata": {
        "colab": {
          "base_uri": "https://localhost:8080/",
          "height": 253
        },
        "id": "OrYobtxnq8DI",
        "outputId": "e82ae5c2-0ea0-4fcf-f45f-c1a32df953c2"
      },
      "source": [
        "print(cluster_centers.shape)\n",
        "cluster_centers_images = torch.reshape(cluster_centers, (10, 28, 28))\n",
        "\n",
        "plt.figure()\n",
        "f, ax = plt.subplots(1,5)\n",
        "for i in range(5):\n",
        "  ax[i].imshow(transforms.ToPILImage()(cluster_centers_images[i]))\n",
        "\n",
        "plt.figure()\n",
        "f, ax = plt.subplots(1,5)\n",
        "for i in range(5):\n",
        "  ax[i].imshow(transforms.ToPILImage()(cluster_centers_images[5+i]))"
      ],
      "execution_count": null,
      "outputs": [
        {
          "output_type": "stream",
          "text": [
            "torch.Size([10, 784])\n"
          ],
          "name": "stdout"
        },
        {
          "output_type": "display_data",
          "data": {
            "text/plain": [
              "<Figure size 432x288 with 0 Axes>"
            ]
          },
          "metadata": {
            "tags": []
          }
        },
        {
          "output_type": "display_data",
          "data": {
            "image/png": "[encoded data removed]",
            "text/plain": [
              "<Figure size 432x288 with 5 Axes>"
            ]
          },
          "metadata": {
            "tags": [],
            "needs_background": "light"
          }
        },
        {
          "output_type": "display_data",
          "data": {
            "text/plain": [
              "<Figure size 432x288 with 0 Axes>"
            ]
          },
          "metadata": {
            "tags": []
          }
        },
        {
          "output_type": "display_data",
          "data": {
            "image/png": "[encoded data removed]",
            "text/plain": [
              "<Figure size 432x288 with 5 Axes>"
            ]
          },
          "metadata": {
            "tags": [],
            "needs_background": "light"
          }
        }
      ]
    },
    {
      "cell_type": "markdown",
      "metadata": {
        "id": "iCHe82vNnXVj"
      },
      "source": [
        "### Make prediction\n",
        "\n",
        "After we have a cluster, we could use it to classify unseen data by using `kmeans_predict`."
      ]
    },
    {
      "cell_type": "code",
      "metadata": {
        "colab": {
          "base_uri": "https://localhost:8080/"
        },
        "id": "Fyg5j536eWGK",
        "outputId": "7c82763a-9803-4d1e-f120-c9fe4314c282"
      },
      "source": [
        "y = torch.flatten(test_loader.dataset.data, 1)\n",
        "\n",
        "cluster_ids_y = kmeans_predict(y, cluster_centers)"
      ],
      "execution_count": null,
      "outputs": [
        {
          "output_type": "stream",
          "text": [
            "predicting on cpu..\n"
          ],
          "name": "stdout"
        }
      ]
    },
    {
      "cell_type": "code",
      "metadata": {
        "colab": {
          "base_uri": "https://localhost:8080/",
          "height": 184
        },
        "id": "KJRPIGf7pi6h",
        "outputId": "c0db2157-c515-49d6-a45b-c588e94ccab1"
      },
      "source": [
        "print(cluster_ids_y)\n",
        "plt.figure()\n",
        "f, ax = plt.subplots(1,3)\n",
        "for i in range(3):\n",
        "  ax[i].imshow(transforms.ToPILImage()(test_loader.dataset.data[i]))"
      ],
      "execution_count": null,
      "outputs": [
        {
          "output_type": "stream",
          "text": [
            "tensor([5, 9, 7,  ..., 4, 7, 5])\n"
          ],
          "name": "stdout"
        },
        {
          "output_type": "display_data",
          "data": {
            "text/plain": [
              "<Figure size 432x288 with 0 Axes>"
            ]
          },
          "metadata": {
            "tags": []
          }
        },
        {
          "output_type": "display_data",
          "data": {
            "image/png": "[encoded data removed]",
            "text/plain": [
              "<Figure size 432x288 with 3 Axes>"
            ]
          },
          "metadata": {
            "tags": [],
            "needs_background": "light"
          }
        }
      ]
    }
  ]
}